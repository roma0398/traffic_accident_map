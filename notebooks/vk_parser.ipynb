{
 "cells": [
  {
   "cell_type": "code",
   "execution_count": 1,
   "metadata": {},
   "outputs": [],
   "source": [
    "import requests\n",
    "import json\n",
    "import csv\n",
    "import pandas as pd\n",
    "import vk\n",
    "import vk_requests\n",
    "from time import sleep"
   ]
  },
  {
   "cell_type": "code",
   "execution_count": 2,
   "metadata": {},
   "outputs": [],
   "source": [
    "f = open('vk_api.txt', 'r')\n",
    "api = f.read()\n",
    "f.close()\n",
    "access_token = api"
   ]
  },
  {
   "cell_type": "code",
   "execution_count": 3,
   "metadata": {},
   "outputs": [],
   "source": [
    "def write_json(data):\n",
    "    with open(\"posts.json\", \"w\") as file:\n",
    "        json.dump(data, file, ident=2, ensure_ascii=False)"
   ]
  },
  {
   "cell_type": "code",
   "execution_count": 4,
   "metadata": {},
   "outputs": [],
   "source": [
    "def getjson(url, data=None):\n",
    "    response = requests.get(url, params=data)\n",
    "    response = response.json()\n",
    "    return response[\"response\"]"
   ]
  },
  {
   "cell_type": "code",
   "execution_count": 5,
   "metadata": {},
   "outputs": [],
   "source": [
    "def get_data(post, data):\n",
    "    try:\n",
    "        data[\"id\"].append(post[\"id\"])\n",
    "    except:\n",
    "        data[\"id\"].append(0)\n",
    "    data[\"text\"].append(post[\"text\"])\n",
    "    try:\n",
    "        data[\"date\"].append(pd.to_datetime(post[\"date\"], unit=\"s\"))\n",
    "    except:\n",
    "        data[\"date\"].append(\"****\")\n",
    "    return data"
   ]
  },
  {
   "cell_type": "markdown",
   "metadata": {},
   "source": [
    "### group_id [spb_today](https://vk.com/spb_today)"
   ]
  },
  {
   "cell_type": "code",
   "execution_count": 6,
   "metadata": {},
   "outputs": [],
   "source": [
    "group_id = \"-68471405\"\n",
    "offset = 0\n",
    "all_posts = []"
   ]
  },
  {
   "cell_type": "code",
   "execution_count": 7,
   "metadata": {},
   "outputs": [
    {
     "name": "stdout",
     "output_type": "stream",
     "text": "59573\n"
    }
   ],
   "source": [
    "response = getjson(\n",
    "    \"https://api.vk.com/method/wall.get\",\n",
    "    {\n",
    "        \"owner_id\": group_id,\n",
    "        \"count\": 1,\n",
    "        \"offset\": offset,\n",
    "        \"access_token\": access_token,\n",
    "        \"v\": \"5.84\",\n",
    "    },\n",
    ")\n",
    "count = response[\"count\"]\n",
    "print(count)"
   ]
  },
  {
   "cell_type": "code",
   "execution_count": 9,
   "metadata": {},
   "outputs": [],
   "source": [
    "while len(all_posts) < count:\n",
    "    sleep(1)\n",
    "    response = getjson('https://api.vk.com/method/wall.get', {\n",
    "    'owner_id': group_id,\n",
    "    'count': 100,\n",
    "    'offset': offset,\n",
    "    'access_token': access_token,\n",
    "    'v': '5.84'\n",
    "})\n",
    "    posts = response['items']\n",
    "    all_posts.extend(posts)\n",
    "    offset += 100    "
   ]
  },
  {
   "cell_type": "code",
   "execution_count": 10,
   "metadata": {},
   "outputs": [],
   "source": [
    "data = {\"id\": [], \"date\": [], \"text\": []}"
   ]
  },
  {
   "cell_type": "code",
   "execution_count": 11,
   "metadata": {},
   "outputs": [],
   "source": [
    "for post in all_posts:\n",
    "    get_data(post, data)"
   ]
  },
  {
   "cell_type": "code",
   "execution_count": 12,
   "metadata": {},
   "outputs": [],
   "source": [
    "FILENAME = \"data/post_data.csv\"\n",
    "pd.DataFrame(data).to_csv(FILENAME, sep=\",\", encoding=\"utf-8\", index=None)"
   ]
  },
  {
   "cell_type": "code",
   "execution_count": null,
   "metadata": {},
   "outputs": [],
   "source": []
  }
 ],
 "metadata": {
  "kernelspec": {
   "display_name": "Python 3",
   "language": "python",
   "name": "python3"
  },
  "language_info": {
   "codemirror_mode": {
    "name": "ipython",
    "version": 3
   },
   "file_extension": ".py",
   "mimetype": "text/x-python",
   "name": "python",
   "nbconvert_exporter": "python",
   "pygments_lexer": "ipython3",
   "version": "3.7.4"
  }
 },
 "nbformat": 4,
 "nbformat_minor": 4
}