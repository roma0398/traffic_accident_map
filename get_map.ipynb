{
 "cells": [
  {
   "cell_type": "code",
   "execution_count": 3,
   "metadata": {},
   "outputs": [
    {
     "name": "stdout",
     "output_type": "stream",
     "text": [
      "(59.93318176269531, 30.306039810180664)\n"
     ]
    }
   ],
   "source": [
    "from geopy.geocoders import Bing\n",
    "f = open('api_key_bing.txt', 'r')\n",
    "api = f.read()\n",
    "f.close()\n",
    "geolocator = Bing(api)\n",
    "location = geolocator.geocode(\"Санкт-Петербург, Обводном Днепропетровской\")\n",
    "print((location.latitude, location.longitude))\n",
    "coord = location.latitude, location.longitude"
   ]
  },
  {
   "cell_type": "code",
   "execution_count": 1,
   "metadata": {},
   "outputs": [
    {
     "name": "stdout",
     "output_type": "stream",
     "text": [
      "(59.852872, 30.352223)\n"
     ]
    }
   ],
   "source": [
    "from geopy.geocoders import Yandex\n",
    "f = open('api_key.txt', 'r')\n",
    "api = f.read()\n",
    "f.close()\n",
    "geolocator = Yandex(api)\n",
    "location = geolocator.geocode(\"Санкт-Петербург, Типанова Космонавтов\")\n",
    "print((location.latitude, location.longitude))\n",
    "coord = location.latitude, location.longitude"
   ]
  },
  {
   "cell_type": "code",
   "execution_count": 30,
   "metadata": {},
   "outputs": [],
   "source": [
    "import pandas as pd\n",
    "data = pd.read_csv('data/new_with_street.csv')\n",
    "data = data.dropna()\n",
    "data = data.reset_index()\n",
    "data.drop(['index'], axis=1, inplace=True)\n",
    "df = data[:200]"
   ]
  },
  {
   "cell_type": "code",
   "execution_count": 37,
   "metadata": {},
   "outputs": [],
   "source": [
    "from folium.plugins import MarkerCluster\n",
    "import folium\n",
    "from geopy.geocoders import Yandex\n",
    "f = open('api_key.txt', 'r')\n",
    "api = f.read()\n",
    "f.close()\n",
    "geolocator = Yandex(api)\n",
    "ad = []\n",
    "spb = [59.939095, 30.315868]\n",
    "map = folium.Map(location=spb, zoom_start = 10)\n",
    "marker_cluster = MarkerCluster().add_to(map)\n",
    "for i in range(100):\n",
    "    st = df['pavlov'][i]\n",
    "    if st != '':\n",
    "        id = df['id'][i]\n",
    "        addr = f'Санкт-Петербург, {st}'\n",
    "        location = geolocator.geocode(addr)\n",
    "        if location is None:\n",
    "            continue\n",
    "        if round(location.latitude, 6) == spb[0] and round(location.longitude, 6) == spb[1]:\n",
    "            continue\n",
    "        folium.Marker(location=[location.latitude, location.longitude], popup = folium.Popup(f'<a href=\"https://vk.com/spb_today?w=wall-68471405_{id}\"target=\"_blank\">link to news in VK</a>'), icon=folium.Icon(color = 'red', icon='info-sign')).add_to(marker_cluster)\n",
    "map.save(\"map1.html\")\n",
    "        "
   ]
  },
  {
   "cell_type": "code",
   "execution_count": null,
   "metadata": {},
   "outputs": [],
   "source": []
  }
 ],
 "metadata": {
  "kernelspec": {
   "display_name": "Python 3",
   "language": "python",
   "name": "python3"
  },
  "language_info": {
   "codemirror_mode": {
    "name": "ipython",
    "version": 3
   },
   "file_extension": ".py",
   "mimetype": "text/x-python",
   "name": "python",
   "nbconvert_exporter": "python",
   "pygments_lexer": "ipython3",
   "version": "3.7.4"
  }
 },
 "nbformat": 4,
 "nbformat_minor": 4
}
