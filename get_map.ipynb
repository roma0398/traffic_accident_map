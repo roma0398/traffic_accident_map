{
 "cells": [
  {
   "cell_type": "code",
   "execution_count": 124,
   "metadata": {},
   "outputs": [],
   "source": [
    "import pandas as pd\n",
    "import requests\n",
    "import json"
   ]
  },
  {
   "cell_type": "code",
   "execution_count": 125,
   "metadata": {},
   "outputs": [],
   "source": [
    "data = pd.read_csv('data/new_with_street.csv')\n",
    "data = data.dropna()\n",
    "data = data.reset_index()\n",
    "data.drop(['index'], axis=1, inplace=True)\n",
    "start_date = '2018-12-01'\n",
    "end_date = '2019-12-01'\n",
    "mask = (data['date'] >= start_date) & (data['date'] <= end_date)\n",
    "df = data.loc[mask]"
   ]
  },
  {
   "cell_type": "code",
   "execution_count": 123,
   "metadata": {},
   "outputs": [
    {
     "data": {
      "text/plain": [
       "(11294, 4)"
      ]
     },
     "execution_count": 123,
     "metadata": {},
     "output_type": "execute_result"
    }
   ],
   "source": [
    "df.shape"
   ]
  },
  {
   "cell_type": "code",
   "execution_count": 121,
   "metadata": {},
   "outputs": [
    {
     "data": {
      "application/vnd.jupyter.widget-view+json": {
       "model_id": "2ea811baaa4b4d5093a48a7c7fc6f590",
       "version_major": 2,
       "version_minor": 0
      },
      "text/plain": [
       "HBox(children=(IntProgress(value=0, max=1800), HTML(value='')))"
      ]
     },
     "metadata": {},
     "output_type": "display_data"
    }
   ],
   "source": [
    "from folium.plugins import MarkerCluster\n",
    "import folium\n",
    "from geopy.geocoders import Yandex\n",
    "from tqdm.autonotebook import tqdm, trange\n",
    "f = open('api_key.txt', 'r')\n",
    "api = f.read()\n",
    "f.close()\n",
    "geolocator = Yandex(api)\n",
    "ad = []\n",
    "spb = [59.939095, 30.315868]\n",
    "map = folium.Map(location=spb, zoom_start = 10)\n",
    "marker_cluster = MarkerCluster().add_to(map)\n",
    "for i in tqdm(list(df.index.values)):\n",
    "    st = df['pavlov'][i]\n",
    "    if st != '':\n",
    "        id = df['id'][i]\n",
    "        addr = f'Санкт-Петербург, {st}'\n",
    "        try:\n",
    "            res = requests.get(f'https://geocode-maps.yandex.ru/1.x/?format=json&apikey={api}&geocode={addr}')\n",
    "            loc = json.loads(res.content.decode('utf8'))['response']['GeoObjectCollection']['featureMember'][0]['GeoObject']['Point']['pos'].split(' ')\n",
    "            location = [float(loc[1]), float(loc[0])]\n",
    "        except:\n",
    "            location = None\n",
    "        if location is None:\n",
    "            continue\n",
    "        if round(location[0], 6) == spb[0] and round(location[1], 6) == spb[1]:\n",
    "            continue\n",
    "        folium.Marker(location=[location[0], location[1]], popup = folium.Popup(f'<a href=\"https://vk.com/spb_today?w=wall-68471405_{id}\"target=\"_blank\">link to news in VK</a>'), icon=folium.Icon(color = 'red', icon='info-sign')).add_to(marker_cluster)\n",
    "map.save(\"map1.html\")"
   ]
  },
  {
   "cell_type": "code",
   "execution_count": null,
   "metadata": {},
   "outputs": [],
   "source": []
  }
 ],
 "metadata": {
  "kernelspec": {
   "display_name": "Python 3",
   "language": "python",
   "name": "python3"
  },
  "language_info": {
   "codemirror_mode": {
    "name": "ipython",
    "version": 3
   },
   "file_extension": ".py",
   "mimetype": "text/x-python",
   "name": "python",
   "nbconvert_exporter": "python",
   "pygments_lexer": "ipython3",
   "version": "3.7.4"
  }
 },
 "nbformat": 4,
 "nbformat_minor": 4
}
