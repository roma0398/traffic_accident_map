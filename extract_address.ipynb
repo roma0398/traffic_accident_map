{
 "cells": [
  {
   "cell_type": "code",
   "execution_count": 11,
   "metadata": {},
   "outputs": [],
   "source": [
    "from natasha import AddressExtractor"
   ]
  },
  {
   "cell_type": "code",
   "execution_count": 23,
   "metadata": {},
   "outputs": [],
   "source": [
    "import pymorphy2\n",
    "import nltk\n",
    "from nltk.corpus import stopwords\n",
    "import re\n",
    "import pandas as pd\n",
    "from tqdm.notebook import tqdm\n",
    "import time"
   ]
  },
  {
   "cell_type": "code",
   "execution_count": 13,
   "metadata": {},
   "outputs": [],
   "source": [
    "from nltk.stem.snowball import SnowballStemmer\n",
    "\n",
    "stemmer = SnowballStemmer('russian')"
   ]
  },
  {
   "cell_type": "code",
   "execution_count": 14,
   "metadata": {},
   "outputs": [],
   "source": [
    "morph = pymorphy2.MorphAnalyzer()\n",
    "stop_words = stopwords.words(\"russian\")\n",
    "\n",
    "def process_text(text):\n",
    "    lower = (word.lower() for word in nltk.wordpunct_tokenize(text))\n",
    "    pattern = re.compile(\"[а-я+0-9-]+\")\n",
    "    words = pattern.findall(\" \".join(lower))\n",
    "    norm_form = (morph.parse(word)[0].normal_form for word in words)\n",
    "    tokens = [word for word in text if word not in stop_words]\n",
    "    return \" \".join(tokens)"
   ]
  },
  {
   "cell_type": "code",
   "execution_count": 61,
   "metadata": {},
   "outputs": [],
   "source": [
    "morph = pymorphy2.MorphAnalyzer()\n",
    "stop_words = stopwords.words(\"russian\")\n",
    "\n",
    "def process_text(text):\n",
    "    tok = text.split(' ')\n",
    "    pattern = re.compile(\"[А-я+0-9-]+\")\n",
    "    words = pattern.findall(\" \".join(tok))\n",
    "    #norm_form = (stemmer.stem(word.lower()) for word in words)\n",
    "    tokens = [word for word in words if word not in stop_words]\n",
    "    return \" \".join(tokens)"
   ]
  },
  {
   "cell_type": "code",
   "execution_count": 62,
   "metadata": {},
   "outputs": [],
   "source": [
    "data = pd.read_csv('data/post_data.csv')\n",
    "data = data.dropna()\n",
    "data = data.reset_index()\n",
    "data.drop(['index'], axis=1, inplace=True)"
   ]
  },
  {
   "cell_type": "code",
   "execution_count": 63,
   "metadata": {},
   "outputs": [],
   "source": [
    "df = data[:100]"
   ]
  },
  {
   "cell_type": "code",
   "execution_count": 64,
   "metadata": {},
   "outputs": [],
   "source": [
    "text = 'Мойка на ПЛАНЕРНОЙ объявляет об АКЦИЯХ :\\n\\n✨Покрытие Тефлон (защитное покрытие блеск+гидрофоб)\\nСедан 1 000 рублей\\nКроссовер 1 250 рублей\\nДжип 1 500 рублей\\n(В стоимость включена мойка авто, обезжиривание, полимерное покрытие с тефлоном)\\nАктуально в дождь, т.к. имеет высокий гидрофобный эффект и машина дольше остаётся чистой!!!\\n\\n✨ защитное гидрофобное покрытие для стёкол\\nЛобовое стекло 1 200 рублей\\nЛобовое стекло\\n+ передние боковые 1 500 рублей\\n(Имеет сильный гидрофобный эффект,\\nчто обеспечивает комфортное вождение в условиях дождя! Срок службы 6 месяцев! )\\n\\n✨Мойка ЛЮКС\\nСедан/кроссовер 500 руб\\nДжип 700 руб\\n(В стоимость входит мойка СТАНДАРТ, пылесос салона, протирание всех пластиковых поверхностей, нанесение полиролей для пластика, мойка стёкол )\\n\\nНа остальные виды работ уточняйте цены по тел: 8-921-750-35-86 или в\\nличные сообщения https://vk.com/milamaier\\n\\n📍Адрес: Санкт-Петербург, ул. Планерная, 24'"
   ]
  },
  {
   "cell_type": "code",
   "execution_count": 77,
   "metadata": {},
   "outputs": [],
   "source": [
    "f = open('data/street_list_spb(without type).txt', 'r')\n",
    "l = [line.strip() for line in f]"
   ]
  },
  {
   "cell_type": "code",
   "execution_count": 81,
   "metadata": {},
   "outputs": [
    {
     "data": {
      "application/vnd.jupyter.widget-view+json": {
       "model_id": "279c21c8a5a74f7487f06fe78ee131c5",
       "version_major": 2,
       "version_minor": 0
      },
      "text/plain": [
       "HBox(children=(IntProgress(value=0), HTML(value='')))"
      ]
     },
     "metadata": {},
     "output_type": "display_data"
    },
    {
     "name": "stdout",
     "output_type": "stream",
     "text": [
      "\n"
     ]
    }
   ],
   "source": [
    "k = 0\n",
    "o = []\n",
    "for i in tqdm(list(df['text'])):\n",
    "    sample = process_text(i)\n",
    "    p = []\n",
    "    for j in l:\n",
    "        if sample.find(stemmer.stem(j)) > 0:\n",
    "            p.append(j)\n",
    "    o.append(p)"
   ]
  },
  {
   "cell_type": "code",
   "execution_count": 82,
   "metadata": {},
   "outputs": [
    {
     "name": "stdout",
     "output_type": "stream",
     "text": [
      "87\n"
     ]
    }
   ],
   "source": [
    "d = 0\n",
    "for i in o:\n",
    "    if len(i)>0:\n",
    "        d+=1\n",
    "print(d)"
   ]
  },
  {
   "cell_type": "code",
   "execution_count": 15,
   "metadata": {},
   "outputs": [
    {
     "name": "stdout",
     "output_type": "stream",
     "text": [
      "Address(parts=[Settlement(name='Санкт-Петербург', type=None), Street(name='Планерная', type='улица'), Building(number='24', type=None)])\n"
     ]
    }
   ],
   "source": [
    "extractor = AddressExtractor()\n",
    "sample = process_text(text)\n",
    "matches = extractor(process_text(sample))\n",
    "for match in matches:\n",
    "    print(match.fact)"
   ]
  },
  {
   "cell_type": "code",
   "execution_count": 10,
   "metadata": {},
   "outputs": [],
   "source": []
  },
  {
   "cell_type": "code",
   "execution_count": 37,
   "metadata": {},
   "outputs": [
    {
     "data": {
      "text/plain": [
       "'1. Эвакуировали 384 лицей. (в 14:30 всех запустили назад) \\n2. Эвакуировали гимназию 405\\n3. В 14:00 эвакуировали 98 школу\\n4. Эвакуировали гимназию 399\\n5. Эвакуировали гимназию 41\\n6. 295 гимназию эвакуируют.\\n\\nЭвакуировали учащихся из школы № 553 Фрунзенского района на улице Ярослава Гашека, 4, корп. 4'"
      ]
     },
     "execution_count": 37,
     "metadata": {},
     "output_type": "execute_result"
    }
   ],
   "source": [
    "df['text'][8]"
   ]
  },
  {
   "cell_type": "code",
   "execution_count": 38,
   "metadata": {},
   "outputs": [
    {
     "data": {
      "application/vnd.jupyter.widget-view+json": {
       "model_id": "6797ffe8456341968698664d2c13bde0",
       "version_major": 2,
       "version_minor": 0
      },
      "text/plain": [
       "HBox(children=(IntProgress(value=0, max=58123), HTML(value='')))"
      ]
     },
     "metadata": {},
     "output_type": "display_data"
    },
    {
     "name": "stdout",
     "output_type": "stream",
     "text": [
      "\n"
     ]
    }
   ],
   "source": [
    "k = 0\n",
    "f = open('street.txt', 'w')\n",
    "extractor = AddressExtractor()\n",
    "for i in tqdm(list(df['text'])):\n",
    "    sample = process_text(i)\n",
    "    matches = extractor(sample)\n",
    "    s = ''\n",
    "    for match in matches:\n",
    "        for j in range(0, len(match.fact.parts)):\n",
    "            try:\n",
    "                if match.fact.parts[j].type is None:\n",
    "                    try:\n",
    "                        s += match.fact.parts[j].number + ' '\n",
    "                        continue\n",
    "                    except:\n",
    "                        s += match.fact.parts[j].name + ' '\n",
    "                        continue\n",
    "                try:\n",
    "                    if match.fact.parts[j].number is None:\n",
    "                        break\n",
    "                    s += match.fact.parts[j].type + ' ' + match.fact.parts[j].number + ' '\n",
    "                except:\n",
    "                    if match.fact.parts[j].name is None:\n",
    "                        continue\n",
    "                s += match.fact.parts[j].type + ' ' + match.fact.parts[j].name + ' '\n",
    "            except:\n",
    "                continue\n",
    "    f.write(s + '\\n')\n",
    "    if len(matches)>0:\n",
    "        k += 1\n",
    "f.close()"
   ]
  },
  {
   "cell_type": "code",
   "execution_count": 30,
   "metadata": {},
   "outputs": [],
   "source": [
    "sample = process_text('Россия Санкт-Петербург Ботаническая улица 66')\n",
    "matches = extractor(sample)\n",
    "s = ''\n",
    "for match in matches:\n",
    "    for j in range(0, len(match.fact.parts)):\n",
    "        try:\n",
    "            if match.fact.parts[j].type is None:\n",
    "                try:\n",
    "                    s += match.fact.parts[j].number + ' '\n",
    "                    continue\n",
    "                except:\n",
    "                    s += match.fact.parts[j].name + ' '\n",
    "                    continue\n",
    "            try:\n",
    "                if match.fact.parts[j].number is None:\n",
    "                    break\n",
    "                s += match.fact.parts[j].type + ' ' + match.fact.parts[j].number + ' '\n",
    "            except:\n",
    "                if match.fact.parts[j].name is None:\n",
    "                    continue\n",
    "            s += match.fact.parts[j].type + ' ' + match.fact.parts[j].name + ' '\n",
    "        except:\n",
    "            continue"
   ]
  },
  {
   "cell_type": "code",
   "execution_count": 31,
   "metadata": {},
   "outputs": [
    {
     "data": {
      "text/plain": [
       "'Санкт-Петербург улица Ботаническая 66 '"
      ]
     },
     "execution_count": 31,
     "metadata": {},
     "output_type": "execute_result"
    }
   ],
   "source": [
    "s"
   ]
  },
  {
   "cell_type": "code",
   "execution_count": 112,
   "metadata": {},
   "outputs": [
    {
     "data": {
      "text/plain": [
       "'На Комсомола улице дома 10 уехал светофор второй середине перекрестка'"
      ]
     },
     "execution_count": 112,
     "metadata": {},
     "output_type": "execute_result"
    }
   ],
   "source": [
    "process_text(text)"
   ]
  },
  {
   "cell_type": "code",
   "execution_count": 124,
   "metadata": {},
   "outputs": [],
   "source": [
    "extractor = AddressExtractor()\n",
    "matches = extractor(process_text(list(df['text'])[0]))\n",
    "for match in matches:\n",
    "    print(match.span, match.fact)"
   ]
  },
  {
   "cell_type": "code",
   "execution_count": 125,
   "metadata": {},
   "outputs": [
    {
     "data": {
      "text/plain": [
       "0"
      ]
     },
     "execution_count": 125,
     "metadata": {},
     "output_type": "execute_result"
    }
   ],
   "source": [
    "len(matches)"
   ]
  },
  {
   "cell_type": "code",
   "execution_count": 94,
   "metadata": {},
   "outputs": [
    {
     "data": {
      "text/plain": [
       "[Street(name='Комсомола',\n",
       "        type='улица'), Building(number='10',\n",
       "          type='дом')]"
      ]
     },
     "execution_count": 94,
     "metadata": {},
     "output_type": "execute_result"
    }
   ],
   "source": [
    "match.fact.parts"
   ]
  },
  {
   "cell_type": "code",
   "execution_count": 183,
   "metadata": {},
   "outputs": [],
   "source": [
    "s = match.fact.parts[0].name + ' ' + match.fact.parts[0].type"
   ]
  },
  {
   "cell_type": "code",
   "execution_count": 184,
   "metadata": {},
   "outputs": [
    {
     "ename": "TypeError",
     "evalue": "can only concatenate str (not \"NoneType\") to str",
     "output_type": "error",
     "traceback": [
      "\u001b[0;31m---------------------------------------------------------------------------\u001b[0m",
      "\u001b[0;31mTypeError\u001b[0m                                 Traceback (most recent call last)",
      "\u001b[0;32m<ipython-input-184-7d845714cd49>\u001b[0m in \u001b[0;36m<module>\u001b[0;34m\u001b[0m\n\u001b[1;32m      1\u001b[0m \u001b[0;32mfor\u001b[0m \u001b[0mi\u001b[0m \u001b[0;32min\u001b[0m \u001b[0mrange\u001b[0m\u001b[0;34m(\u001b[0m\u001b[0;36m1\u001b[0m\u001b[0;34m,\u001b[0m \u001b[0mlen\u001b[0m\u001b[0;34m(\u001b[0m\u001b[0mmatch\u001b[0m\u001b[0;34m.\u001b[0m\u001b[0mfact\u001b[0m\u001b[0;34m.\u001b[0m\u001b[0mparts\u001b[0m\u001b[0;34m)\u001b[0m\u001b[0;34m)\u001b[0m\u001b[0;34m:\u001b[0m\u001b[0;34m\u001b[0m\u001b[0;34m\u001b[0m\u001b[0m\n\u001b[0;32m----> 2\u001b[0;31m     \u001b[0ms\u001b[0m \u001b[0;34m+=\u001b[0m \u001b[0;34m' '\u001b[0m  \u001b[0;34m+\u001b[0m \u001b[0mmatch\u001b[0m\u001b[0;34m.\u001b[0m\u001b[0mfact\u001b[0m\u001b[0;34m.\u001b[0m\u001b[0mparts\u001b[0m\u001b[0;34m[\u001b[0m\u001b[0mi\u001b[0m\u001b[0;34m]\u001b[0m\u001b[0;34m.\u001b[0m\u001b[0mtype\u001b[0m \u001b[0;34m+\u001b[0m \u001b[0;34m' '\u001b[0m \u001b[0;34m+\u001b[0m \u001b[0mmatch\u001b[0m\u001b[0;34m.\u001b[0m\u001b[0mfact\u001b[0m\u001b[0;34m.\u001b[0m\u001b[0mparts\u001b[0m\u001b[0;34m[\u001b[0m\u001b[0mi\u001b[0m\u001b[0;34m]\u001b[0m\u001b[0;34m.\u001b[0m\u001b[0mnumber\u001b[0m\u001b[0;34m\u001b[0m\u001b[0;34m\u001b[0m\u001b[0m\n\u001b[0m",
      "\u001b[0;31mTypeError\u001b[0m: can only concatenate str (not \"NoneType\") to str"
     ]
    }
   ],
   "source": [
    "for i in range(0, len(match.fact.parts)):\n",
    "    if match.fact.parts[i].type is None:\n",
    "        s += match.fact.parts[i].number\n",
    "    else:\n",
    "        s += match.fact.parts[i].type + ' ' + match.fact.parts[i].number + ' '"
   ]
  },
  {
   "cell_type": "code",
   "execution_count": 185,
   "metadata": {},
   "outputs": [
    {
     "data": {
      "text/plain": [
       "'Лиговском проспект'"
      ]
     },
     "execution_count": 185,
     "metadata": {},
     "output_type": "execute_result"
    }
   ],
   "source": [
    "s"
   ]
  },
  {
   "cell_type": "code",
   "execution_count": 82,
   "metadata": {},
   "outputs": [
    {
     "data": {
      "text/plain": [
       "True"
      ]
     },
     "execution_count": 82,
     "metadata": {},
     "output_type": "execute_result"
    }
   ],
   "source": [
    "match.fact.parts[2].type is None"
   ]
  },
  {
   "cell_type": "code",
   "execution_count": 86,
   "metadata": {},
   "outputs": [],
   "source": [
    "f = open('street.txt', 'r')\n",
    "l = [line.strip() for line in f]"
   ]
  },
  {
   "cell_type": "code",
   "execution_count": 88,
   "metadata": {},
   "outputs": [
    {
     "data": {
      "text/plain": [
       "58123"
      ]
     },
     "execution_count": 88,
     "metadata": {},
     "output_type": "execute_result"
    }
   ],
   "source": [
    "len(l)"
   ]
  },
  {
   "cell_type": "code",
   "execution_count": 89,
   "metadata": {},
   "outputs": [
    {
     "data": {
      "text/plain": [
       "(58123, 3)"
      ]
     },
     "execution_count": 89,
     "metadata": {},
     "output_type": "execute_result"
    }
   ],
   "source": [
    "data.shape"
   ]
  },
  {
   "cell_type": "code",
   "execution_count": 90,
   "metadata": {},
   "outputs": [],
   "source": [
    "data['natasha'] = l"
   ]
  },
  {
   "cell_type": "code",
   "execution_count": 92,
   "metadata": {},
   "outputs": [
    {
     "data": {
      "text/html": [
       "<div>\n",
       "<style scoped>\n",
       "    .dataframe tbody tr th:only-of-type {\n",
       "        vertical-align: middle;\n",
       "    }\n",
       "\n",
       "    .dataframe tbody tr th {\n",
       "        vertical-align: top;\n",
       "    }\n",
       "\n",
       "    .dataframe thead th {\n",
       "        text-align: right;\n",
       "    }\n",
       "</style>\n",
       "<table border=\"1\" class=\"dataframe\">\n",
       "  <thead>\n",
       "    <tr style=\"text-align: right;\">\n",
       "      <th></th>\n",
       "      <th>id</th>\n",
       "      <th>date</th>\n",
       "      <th>text</th>\n",
       "      <th>natasha</th>\n",
       "    </tr>\n",
       "  </thead>\n",
       "  <tbody>\n",
       "    <tr>\n",
       "      <td>8</td>\n",
       "      <td>12341152</td>\n",
       "      <td>2019-12-09 11:18:58</td>\n",
       "      <td>1. Эвакуировали 384 лицей. (в 14:30 всех запус...</td>\n",
       "      <td>район Фрунзенского улица Ярослава Гашека 4 кор...</td>\n",
       "    </tr>\n",
       "    <tr>\n",
       "      <td>39</td>\n",
       "      <td>12338074</td>\n",
       "      <td>2019-12-08 15:58:13</td>\n",
       "      <td>Сегодня в 8 утра, на Кантемировской улице,  мо...</td>\n",
       "      <td>улица Кантемировской 9</td>\n",
       "    </tr>\n",
       "    <tr>\n",
       "      <td>52</td>\n",
       "      <td>12336390</td>\n",
       "      <td>2019-12-08 06:53:59</td>\n",
       "      <td>Сегодня в 3 часа ночи на Будапештской ул. 95 к...</td>\n",
       "      <td>улица Будапештской 95 корпус 1</td>\n",
       "    </tr>\n",
       "    <tr>\n",
       "      <td>53</td>\n",
       "      <td>12336388</td>\n",
       "      <td>2019-12-08 06:52:39</td>\n",
       "      <td>Туристская, 28.\\n5ого декабря с утра обнаружил...</td>\n",
       "      <td>улица Туристкая 26</td>\n",
       "    </tr>\n",
       "    <tr>\n",
       "      <td>56</td>\n",
       "      <td>12335402</td>\n",
       "      <td>2019-12-07 19:12:55</td>\n",
       "      <td>Новости города за сегодняшний день:\\n\\n1. Липо...</td>\n",
       "      <td>набережная Петроградской 6</td>\n",
       "    </tr>\n",
       "    <tr>\n",
       "      <td>...</td>\n",
       "      <td>...</td>\n",
       "      <td>...</td>\n",
       "      <td>...</td>\n",
       "      <td>...</td>\n",
       "    </tr>\n",
       "    <tr>\n",
       "      <td>58046</td>\n",
       "      <td>4809342</td>\n",
       "      <td>2016-09-11 23:52:04</td>\n",
       "      <td>6 сентября был угнан мой любимый Форд Фокус М7...</td>\n",
       "      <td>бульвар Сиреневом 6</td>\n",
       "    </tr>\n",
       "    <tr>\n",
       "      <td>58052</td>\n",
       "      <td>4807823</td>\n",
       "      <td>2016-09-11 19:45:50</td>\n",
       "      <td>На Ропшинском шоссе 08 09.2016\\n(Смотреть с 0;...</td>\n",
       "      <td>шоссе На Ропшинском 08</td>\n",
       "    </tr>\n",
       "    <tr>\n",
       "      <td>58057</td>\n",
       "      <td>4807684</td>\n",
       "      <td>2016-09-11 19:35:07</td>\n",
       "      <td>ДТП на Новоприозерском шоссе 11.09.2016\\nК нов...</td>\n",
       "      <td>шоссе Новоприозерском 11</td>\n",
       "    </tr>\n",
       "    <tr>\n",
       "      <td>58095</td>\n",
       "      <td>4804611</td>\n",
       "      <td>2016-09-11 10:29:17</td>\n",
       "      <td>Угнан автомобиль Тойота Хайлендр 2014 г серебр...</td>\n",
       "      <td>район Приморский улица Сизова Испытателей 10</td>\n",
       "    </tr>\n",
       "    <tr>\n",
       "      <td>58099</td>\n",
       "      <td>4803932</td>\n",
       "      <td>2016-09-11 08:33:57</td>\n",
       "      <td>10.09.16, в 21.15 на перекрестке Большого прос...</td>\n",
       "      <td>проспект Большого 8</td>\n",
       "    </tr>\n",
       "  </tbody>\n",
       "</table>\n",
       "<p>6180 rows × 4 columns</p>\n",
       "</div>"
      ],
      "text/plain": [
       "             id                 date  \\\n",
       "8      12341152  2019-12-09 11:18:58   \n",
       "39     12338074  2019-12-08 15:58:13   \n",
       "52     12336390  2019-12-08 06:53:59   \n",
       "53     12336388  2019-12-08 06:52:39   \n",
       "56     12335402  2019-12-07 19:12:55   \n",
       "...         ...                  ...   \n",
       "58046   4809342  2016-09-11 23:52:04   \n",
       "58052   4807823  2016-09-11 19:45:50   \n",
       "58057   4807684  2016-09-11 19:35:07   \n",
       "58095   4804611  2016-09-11 10:29:17   \n",
       "58099   4803932  2016-09-11 08:33:57   \n",
       "\n",
       "                                                    text  \\\n",
       "8      1. Эвакуировали 384 лицей. (в 14:30 всех запус...   \n",
       "39     Сегодня в 8 утра, на Кантемировской улице,  мо...   \n",
       "52     Сегодня в 3 часа ночи на Будапештской ул. 95 к...   \n",
       "53     Туристская, 28.\\n5ого декабря с утра обнаружил...   \n",
       "56     Новости города за сегодняшний день:\\n\\n1. Липо...   \n",
       "...                                                  ...   \n",
       "58046  6 сентября был угнан мой любимый Форд Фокус М7...   \n",
       "58052  На Ропшинском шоссе 08 09.2016\\n(Смотреть с 0;...   \n",
       "58057  ДТП на Новоприозерском шоссе 11.09.2016\\nК нов...   \n",
       "58095  Угнан автомобиль Тойота Хайлендр 2014 г серебр...   \n",
       "58099  10.09.16, в 21.15 на перекрестке Большого прос...   \n",
       "\n",
       "                                                 natasha  \n",
       "8      район Фрунзенского улица Ярослава Гашека 4 кор...  \n",
       "39                                улица Кантемировской 9  \n",
       "52                        улица Будапештской 95 корпус 1  \n",
       "53                                    улица Туристкая 26  \n",
       "56                            набережная Петроградской 6  \n",
       "...                                                  ...  \n",
       "58046                                бульвар Сиреневом 6  \n",
       "58052                             шоссе На Ропшинском 08  \n",
       "58057                           шоссе Новоприозерском 11  \n",
       "58095       район Приморский улица Сизова Испытателей 10  \n",
       "58099                                проспект Большого 8  \n",
       "\n",
       "[6180 rows x 4 columns]"
      ]
     },
     "execution_count": 92,
     "metadata": {},
     "output_type": "execute_result"
    }
   ],
   "source": [
    "data.loc[data['natasha'] != '']"
   ]
  },
  {
   "cell_type": "code",
   "execution_count": null,
   "metadata": {},
   "outputs": [],
   "source": []
  }
 ],
 "metadata": {
  "kernelspec": {
   "display_name": "Python 3",
   "language": "python",
   "name": "python3"
  },
  "language_info": {
   "codemirror_mode": {
    "name": "ipython",
    "version": 3
   },
   "file_extension": ".py",
   "mimetype": "text/x-python",
   "name": "python",
   "nbconvert_exporter": "python",
   "pygments_lexer": "ipython3",
   "version": "3.7.4"
  }
 },
 "nbformat": 4,
 "nbformat_minor": 4
}
