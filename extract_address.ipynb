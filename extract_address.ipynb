{
 "cells": [
  {
   "cell_type": "code",
   "execution_count": 1,
   "metadata": {},
   "outputs": [],
   "source": [
    "from natasha import AddressExtractor"
   ]
  },
  {
   "cell_type": "code",
   "execution_count": 118,
   "metadata": {},
   "outputs": [],
   "source": [
    "import pymorphy2\n",
    "import nltk\n",
    "from nltk.corpus import stopwords\n",
    "import re\n",
    "import pandas as pd"
   ]
  },
  {
   "cell_type": "code",
   "execution_count": 68,
   "metadata": {},
   "outputs": [],
   "source": [
    "morph = pymorphy2.MorphAnalyzer()\n",
    "stop_words = stopwords.words(\"russian\")\n",
    "\n",
    "def process_text(text):\n",
    "    lower = (word.lower() for word in nltk.wordpunct_tokenize(text))\n",
    "    pattern = re.compile(\"[а-я+0-9-]+\")\n",
    "    words = pattern.findall(\" \".join(lower))\n",
    "    norm_form = (morph.parse(word)[0].normal_form for word in words)\n",
    "    tokens = [word for word in text if word not in stop_words]\n",
    "    return \" \".join(tokens)"
   ]
  },
  {
   "cell_type": "code",
   "execution_count": 99,
   "metadata": {},
   "outputs": [],
   "source": [
    "morph = pymorphy2.MorphAnalyzer()\n",
    "stop_words = stopwords.words(\"russian\")\n",
    "\n",
    "def process_text(text):\n",
    "    tok = text.split(' ')\n",
    "    pattern = re.compile(\"[А-я+0-9-]+\")\n",
    "    words = pattern.findall(\" \".join(tok))\n",
    "    tokens = [word for word in words if word not in stop_words]\n",
    "    return \" \".join(tokens)"
   ]
  },
  {
   "cell_type": "code",
   "execution_count": 142,
   "metadata": {},
   "outputs": [],
   "source": [
    "data = pd.read_csv('data/post_data.csv')\n",
    "data = data.dropna()"
   ]
  },
  {
   "cell_type": "code",
   "execution_count": 138,
   "metadata": {},
   "outputs": [],
   "source": [
    "df = data[:1000]"
   ]
  },
  {
   "cell_type": "code",
   "execution_count": 139,
   "metadata": {},
   "outputs": [],
   "source": [
    "text = '''\n",
    "На Комсомола улице у дома 10....один уехал в светофор, второй на середине перекрестка.\n",
    "'''"
   ]
  },
  {
   "cell_type": "code",
   "execution_count": 140,
   "metadata": {},
   "outputs": [
    {
     "name": "stdout",
     "output_type": "stream",
     "text": [
      "[220, 270) Address(parts=[Region(name='Фрунзенского', type='район'), Street(name='Ярослава Гашека', type='улица'), Building(number='4', type=None), Building(number='4', type='корпус')])\n",
      "[15, 37) Address(parts=[Street(name='Кантемировской', type='улица'), Building(number='9', type=None)])\n",
      "[20, 45) Address(parts=[Street(name='Будапештской', type='улица'), Building(number='95', type=None), Building(number='1', type='корпус')])\n",
      "[197, 215) Address(parts=[Street(name='Туристкая', type='улица'), Building(number='26', type=None)])\n",
      "[127, 153) Address(parts=[Street(name='Петроградской', type='набережная'), Building(number='6', type=None)])\n",
      "[59, 85) Address(parts=[Street(name='Полюстровском', type='проспект'), Building(number='54', type=None)])\n",
      "[35, 57) Address(parts=[Street(name='Ленинский', type='проспект'), Building(number='126', type=None)])\n",
      "[16, 45) Address(parts=[Street(name='Гражданском', type='проспект'), Building(number='83', type='дом')])\n",
      "[16, 39) Address(parts=[Street(name='Московского', type='проспект'), Building(number='4', type=None)])\n",
      "[66, 84) Address(parts=[Street(name='Сизова', type='проспект'), Building(number='9', type=None)])\n",
      "[38, 84) Address(parts=[Street(name='Обуховской Обороны', type='проспект'), Building(number='138', type='дом'), Building(number='2', type='корпус')])\n",
      "[2, 52) Address(parts=[Street(name='Кудрово выезде парковки Ленинградской', type='улица'), Building(number='1', type='дом')])\n",
      "[0, 30) Address(parts=[Street(name='На Тихорецком', type='проспект'), Building(number='2', type='дом')])\n",
      "[26, 54) Address(parts=[Street(name='1 Авария Выборгском', type='шоссе'), Building(number='14', type=None)])\n",
      "[185, 202) Address(parts=[Street(name='Хасанской', type='улица'), Building(number='6', type=None)])\n",
      "[229, 249) Address(parts=[Street(name='Энгельса', type='проспект'), Building(number='6', type=None)])\n",
      "[0, 28) Address(parts=[Street(name='На Невском', type='проспект'), Building(number='88', type='дом')])\n",
      "[77, 99) Address(parts=[Street(name='Учебный', type='переулок'), Building(number='5', type='дом')])\n",
      "[450, 472) Address(parts=[Street(name='Лахтинском', type='проспект'), Building(number='6', type=None)])\n",
      "[30, 60) Address(parts=[Street(name='Провода Лиговский', type='проспект'), Building(number='172', type=None)])\n",
      "[19, 58) Address(parts=[Street(name='Комендантского', type='проспект'), Building(number='64', type='дом'), Building(number='1', type='корпус')])\n",
      "[0, 54) Address(parts=[Street(name='Загородный проспект направлении Владимирской', type='площадь'), Building(number='5', type=None)])\n",
      "[16, 40) Address(parts=[Street(name='Софийской Южного', type='шоссе'), Building(number='5', type=None)])\n",
      "[44, 67) Address(parts=[Street(name='Красносельского', type='шоссе'), Building(number='2', type=None)])\n",
      "[0, 19) Address(parts=[Street(name='Пулковское', type='шоссе'), Building(number='13', type=None)])\n",
      "[44, 58) Address(parts=[Street(name='Мужества', type='площадь'), Building(number='16', type=None)])\n",
      "[2, 35) Address(parts=[Street(name='Ломоносове Дворцовом', type='проспект'), Building(number='49', type=None)])\n",
      "[64, 95) Address(parts=[Street(name='Стою Малоохтинском', type='проспект'), Building(number='84', type=None)])\n",
      "[0, 22) Address(parts=[Street(name='На Московском', type='шоссе'), Building(number='54', type=None)])\n",
      "[15, 38) Address(parts=[Street(name='Московский', type='проспект'), Building(number='207', type=None)])\n",
      "[29, 50) Address(parts=[Street(name='Энгельса', type='проспект'), Building(number='178', type=None)])\n",
      "[115, 132) Address(parts=[Street(name='Революции', type='шоссе'), Building(number='5', type=None)])\n",
      "[155, 171) Address(parts=[Street(name='Репина', type='площадь'), Building(number='5', type=None)])\n",
      "[29, 56) Address(parts=[Street(name='Маршала Жукова', type='проспект'), Building(number='66', type=None)])\n",
      "[54, 85) Address(parts=[Street(name='Гражданского', type='проспект'), Building(number='111', type='дом')])\n",
      "[59, 77) Address(parts=[Street(name='Революции', type='шоссе'), Building(number='43', type=None)])\n",
      "[0, 26) Address(parts=[Street(name='На Лиговском', type='проспект'), Building(number='158', type=None)])\n",
      "[16, 45) Address(parts=[Street(name='Металлистов', type='проспект'), Building(number='73', type='дом')])\n",
      "[10, 41) Address(parts=[Street(name='Приморского', type='проспект'), Building(number='62 к', type='дом')])\n",
      "[38, 74) Address(parts=[Street(name='Соляриса Российском', type='проспект'), Building(number='8', type='дом')])\n",
      "[35, 56) Address(parts=[Street(name='Королева', type='проспект'), Building(number='19', type=None)])\n",
      "[43, 61) Address(parts=[Street(name='Планерная', type='улица'), Building(number='71', type=None)])\n",
      "[40, 46) Address(parts=[Street(name='И', type='проспект'), Building(number='1', type=None)])\n",
      "[89, 122) Address(parts=[Street(name='Дальневосточный', type='проспект'), Building(number='8', type=None), Building(number='1', type='корпус')])\n",
      "[168, 189) Address(parts=[Street(name='Лиговский', type='проспект'), Building(number='46', type=None)])\n",
      "[18, 38) Address(parts=[Street(name='56 Ольховой', type='улица'), Building(number='18', type=None)])\n",
      "[19, 67) Address(parts=[Settlement(name='Пушкине', type='город'), Street(name='Алексея Толстого', type='бульвар'), Building(number='46', type='дом')])\n",
      "[36, 63) Address(parts=[Street(name='Крыленко женщина Мазде', type='улица'), Building(number='6', type=None)])\n",
      "[3, 38) Address(parts=[Street(name='Космонавтов дворе', type='проспект'), Building(number='66', type='дом')])\n",
      "[10, 51) Address(parts=[Region(name='Калининском', type='район'), Street(name='Вавиловых', type='улица'), Building(number='9', type='дом')])\n",
      "[10, 35) Address(parts=[Street(name='Маршала Захарова', type='улица'), Building(number='58', type=None)])\n",
      "[58, 88) Address(parts=[Street(name='Ветеранов', type='проспект'), Building(number='140', type=None), Building(number='2', type='корпус')])\n",
      "[191, 208) Address(parts=[Street(name='Тамбасова', type='улица'), Building(number='2', type=None)])\n",
      "[57, 76) Address(parts=[Street(name='Котовского', type='улица'), Building(number='55', type=None)])\n",
      "[124, 212) Address(parts=[Street(name='Пискаревском проспекте 55 3 Окровавленный мужчина мешал проезду машин Гончарной', type='улица'), Building(number='55', type=None)])\n",
      "[326, 345) Address(parts=[Street(name='Цимбалина', type='улица'), Building(number='560', type=None)])\n",
      "[659, 684) Address(parts=[Street(name='Богатырском', type='проспект'), Building(number='568', type=None)])\n",
      "[38, 56) Address(parts=[Street(name='Замшиной', type='улица'), Building(number='58А', type=None)])\n",
      "[29, 60) Address(parts=[Street(name='Выборгскую', type='набережная'), Building(number='350996614', type=None)])\n",
      "[20, 46) Address(parts=[Street(name='Пулковского', type='шоссе'), Building(number='38к', type='дом')])\n",
      "[55, 75) Address(parts=[Street(name='45 Суздальском', type='проспект'), Building(number='40', type=None)])\n",
      "[32, 50) Address(parts=[Street(name='Героев', type='проспект'), Building(number='5', type=None)])\n",
      "[21, 48) Address(parts=[Street(name='угнан автомобиль', type='улица'), Building(number='4007', type=None)])\n",
      "[22, 58) Address(parts=[Street(name='большого Сампсониевского', type='проспект'), Building(number='1', type=None)])\n",
      "[70, 91) Address(parts=[Street(name='примерно', type='проспект'), Building(number='10', type=None)])\n",
      "[524, 541) Address(parts=[Street(name='Тореза', type='проспект'), Building(number='4', type=None)])\n",
      "[20, 61) Address(parts=[Settlement(name='Шушары', type='посёлок'), Street(name='Первомайской', type='улица'), Building(number='5к', type='дом')])\n",
      "[3, 26) Address(parts=[Street(name='Димитрова', type='улица'), Building(number='22', type='дом')])\n",
      "[20, 61) Address(parts=[Settlement(name='Шушары', type='посёлок'), Street(name='Первомайской', type='улица'), Building(number='5к', type='дом')])\n",
      "[16, 51) Address(parts=[Street(name='Королева', type='проспект'), Building(number='46', type='дом'), Building(number='3', type='корпус')])\n",
      "[60, 87) Address(parts=[Street(name='Большеохтинский', type='проспект'), Building(number='37', type=None)])\n",
      "[4, 20) Address(parts=[Street(name='Бехтерева Я', type='площадь'), Building(number='5', type=None)])\n",
      "[27, 44) Address(parts=[Street(name='Дунайский', type='проспект'), Building(number='37 к', type=None)])\n",
      "[3, 24) Address(parts=[Street(name='Энгельса', type='проспект'), Building(number='63', type=None)])\n",
      "[0, 27) Address(parts=[Street(name='На Волковском', type='проспект'), Building(number='146', type=None)])\n",
      "[37, 59) Address(parts=[Street(name='Среднего', type='проспект'), Building(number='8-9', type=None)])\n",
      "[3, 30) Address(parts=[Street(name='Энгельса', type='проспект'), Building(number='139', type='дом')])\n",
      "[125, 142) Address(parts=[Street(name='Испытателей', type='проспект'), Building(number='20', type=None)])\n",
      "[16, 66) Address(parts=[Region(name='Калининском', type='район'), Street(name='Светлановском', type='проспект'), Building(number='72', type='дом')])\n",
      "[220, 241) Address(parts=[Street(name='бродили козла', type='улица'), Building(number='3', type=None)])\n",
      "[25, 47) Address(parts=[Street(name='Кузнецова', type='проспект'), Building(number='11', type=None)])\n",
      "[87, 116) Address(parts=[Street(name='проспекта Металлистов', type='улица'), Building(number='8', type=None)])\n",
      "[233, 255) Address(parts=[Street(name='Московском', type='проспект'), Building(number='3', type=None)])\n",
      "[511, 525) Address(parts=[Street(name='Ткачей', type='улица'), Building(number='3', type=None)])\n",
      "[3, 24) Address(parts=[Street(name='Энгельса', type='проспект'), Building(number='85', type=None)])\n",
      "[70, 103) Address(parts=[Street(name='Дальневосточном', type='проспект'), Building(number='33', type='дом')])\n",
      "[22, 45) Address(parts=[Street(name='Воронцовском', type='бульвар'), Building(number='8', type=None)])\n",
      "[2, 27) Address(parts=[Street(name='Репино Приморском', type='шоссе'), Building(number='3', type=None)])\n",
      "[13, 28) Address(parts=[Street(name='Ленина', type='улица'), Building(number='11', type=None)])\n",
      "[636, 654) Address(parts=[Street(name='Таллинской', type='улица'), Building(number='3', type=None)])\n",
      "[0, 22) Address(parts=[Street(name='На Московском', type='шоссе'), Building(number='13', type=None)])\n",
      "[36, 63) Address(parts=[Street(name='Выборгское', type='шоссе'), Building(number='5', type=None), Building(number='1', type='корпус')])\n",
      "[66, 108) Address(parts=[Street(name='культуры произошло ДТП Я синем', type='проспект'), Building(number='3', type=None)])\n",
      "[73, 112) Address(parts=[Street(name='вдоль Индустриального', type='проспект'), Building(number='13', type='дом')])\n",
      "[19, 48) Address(parts=[Street(name='Просвещения', type='проспект'), Building(number='72', type='дом')])\n",
      "[14, 39) Address(parts=[Street(name='30 Мебельной', type='улица'), Building(number='2', type='дом')])\n",
      "[0, 28) Address(parts=[Street(name='На Октябрьской', type='набережная'), Building(number='31', type=None)])\n",
      "[2, 34) Address(parts=[Settlement(name='Мурино', type='город'), Street(name='Вокзальной', type='улица'), Building(number='1', type=None)])\n",
      "[5, 35) Address(parts=[Street(name='55 Загородном', type='проспект'), Building(number='4', type='дом')])\n",
      "[79, 103) Address(parts=[Street(name='Магнитогорской', type='улица'), Building(number='11а', type=None)])\n",
      "[15, 31) Address(parts=[Street(name='Ланского', type='шоссе'), Building(number='8', type=None)])\n",
      "[24, 60) Address(parts=[Street(name='00 Комендантского', type='проспект'), Building(number='34к', type='дом')])\n",
      "[0, 28) Address(parts=[Street(name='На Богатырском', type='проспект'), Building(number='41к', type=None)])\n",
      "[0, 19) Address(parts=[Street(name='Пионерская', type='улица'), Building(number='46', type=None)])\n",
      "[111, 131) Address(parts=[Street(name='Композиторов', type='улица'), Building(number='2', type=None)])\n",
      "[165, 186) Address(parts=[Street(name='Ленинском', type='проспект'), Building(number='2', type=None)])\n",
      "[61, 85) Address(parts=[Street(name='15 Композиторов', type='шоссе'), Building(number='12', type=None)])\n",
      "[3, 27) Address(parts=[Street(name='Просвещения', type='проспект'), Building(number='5к', type=None)])\n",
      "[197, 220) Address(parts=[Street(name='Богатырском', type='проспект'), Building(number='2', type=None)])\n",
      "[70, 104) Address(parts=[Street(name='столкнулся машиной', type='набережная'), Building(number='04 Я', type=None)])\n",
      "[18, 42) Address(parts=[Street(name='Бабушкина', type='улица'), Building(number='131', type='дом')])\n",
      "[108, 126) Address(parts=[Street(name='Боткинской', type='улица'), Building(number='2', type=None)])\n",
      "[278, 305) Address(parts=[Street(name='5 На Витебском', type='проспект'), Building(number='10', type=None)])\n",
      "[58, 77) Address(parts=[Street(name='В О 26', type='проспект'), Building(number='27', type=None)])\n",
      "[129, 196) Address(parts=[Street(name='Кустодиева Шевроле Мазду Опель В результате ДТП пострадали', type='улица'), Building(number='7', type=None)])\n",
      "[16, 46) Address(parts=[Street(name='Коллонтай', type='улица'), Building(number='28', type='дом'), Building(number='1', type='корпус')])\n",
      "[19, 49) Address(parts=[Street(name='40 Ленской', type='улица'), Building(number='4', type='дом'), Building(number='3', type='корпус')])\n",
      "[272, 296) Address(parts=[Street(name='Солидарности', type='проспект'), Building(number='1', type=None)])\n",
      "[19, 54) Address(parts=[Street(name='00 Светлановского', type='проспект'), Building(number='61', type='дом')])\n",
      "[0, 23) Address(parts=[Street(name='На Выборгском', type='шоссе'), Building(number='33а', type=None)])\n",
      "[21, 42) Address(parts=[Street(name='Петергофское', type='шоссе'), Building(number='1к', type=None)])\n",
      "[39, 67) Address(parts=[Street(name='Ветеранов', type='проспект'), Building(number='76', type='дом')])\n",
      "[3, 25) Address(parts=[Street(name='Тельмана', type='улица'), Building(number='44', type='дом')])\n",
      "[18, 67) Address(parts=[Region(name='Калининском', type='район'), Street(name='Жукова', type='улица'), Building(number='1', type='дом'), Building(number=None, type='строение')])\n",
      "[49, 80) Address(parts=[Street(name='Аэроплаза Стартовой', type='улица'), Building(number='8', type='дом')])\n",
      "[27, 54) Address(parts=[Street(name='Гидротехников рядом', type='улица'), Building(number='3', type=None)])\n",
      "[547, 570) Address(parts=[Street(name='Просвещения', type='проспект'), Building(number='1', type=None)])\n",
      "[622, 644) Address(parts=[Street(name='- съезд ЗСД Е-', type='шоссе'), Building(number='18', type=None)])\n",
      "[0, 22) Address(parts=[Street(name='Суворовский', type='проспект'), Building(number='2', type=None)])\n",
      "[204, 222) Address(parts=[Street(name='Приморском', type='шоссе'), Building(number='1', type=None)])\n",
      "[384, 398) Address(parts=[Street(name='Гашека', type='улица'), Building(number='1', type=None)])\n",
      "[13, 40) Address(parts=[Street(name='00 Выборгской', type='набережная'), Building(number='55', type=None)])\n",
      "[629, 653) Address(parts=[Street(name='Богатырском', type='проспект'), Building(number='11', type=None)])\n",
      "[66, 87) Address(parts=[Street(name='Льва Толстого', type='улица'), Building(number='9', type=None)])\n",
      "[21, 41) Address(parts=[Street(name='Суздальское', type='шоссе'), Building(number='12', type=None)])\n",
      "[30, 61) Address(parts=[Street(name='Варшавской районе', type='улица'), Building(number='32', type='дом')])\n"
     ]
    }
   ],
   "source": [
    "k = 0\n",
    "extractor = AddressExtractor()\n",
    "for i in list(df['text']):\n",
    "    sample = process_text(i)\n",
    "    matches = extractor(process_text(sample))\n",
    "    for match in matches:\n",
    "        print(match.span, match.fact)\n",
    "    if len(matches)>0:\n",
    "        k += 1"
   ]
  },
  {
   "cell_type": "code",
   "execution_count": 141,
   "metadata": {},
   "outputs": [
    {
     "name": "stdout",
     "output_type": "stream",
     "text": [
      "122\n"
     ]
    }
   ],
   "source": [
    "print(k)"
   ]
  },
  {
   "cell_type": "code",
   "execution_count": 112,
   "metadata": {},
   "outputs": [
    {
     "data": {
      "text/plain": [
       "'На Комсомола улице дома 10 уехал светофор второй середине перекрестка'"
      ]
     },
     "execution_count": 112,
     "metadata": {},
     "output_type": "execute_result"
    }
   ],
   "source": [
    "process_text(text)"
   ]
  },
  {
   "cell_type": "code",
   "execution_count": 124,
   "metadata": {},
   "outputs": [],
   "source": [
    "extractor = AddressExtractor()\n",
    "matches = extractor(process_text(list(df['text'])[0]))\n",
    "for match in matches:\n",
    "    print(match.span, match.fact)"
   ]
  },
  {
   "cell_type": "code",
   "execution_count": 125,
   "metadata": {},
   "outputs": [
    {
     "data": {
      "text/plain": [
       "0"
      ]
     },
     "execution_count": 125,
     "metadata": {},
     "output_type": "execute_result"
    }
   ],
   "source": [
    "len(matches)"
   ]
  },
  {
   "cell_type": "code",
   "execution_count": 94,
   "metadata": {},
   "outputs": [
    {
     "data": {
      "text/plain": [
       "[Street(name='Комсомола',\n",
       "        type='улица'), Building(number='10',\n",
       "          type='дом')]"
      ]
     },
     "execution_count": 94,
     "metadata": {},
     "output_type": "execute_result"
    }
   ],
   "source": [
    "match.fact.parts"
   ]
  },
  {
   "cell_type": "code",
   "execution_count": 183,
   "metadata": {},
   "outputs": [],
   "source": [
    "s = match.fact.parts[0].name + ' ' + match.fact.parts[0].type"
   ]
  },
  {
   "cell_type": "code",
   "execution_count": 184,
   "metadata": {},
   "outputs": [
    {
     "ename": "TypeError",
     "evalue": "can only concatenate str (not \"NoneType\") to str",
     "output_type": "error",
     "traceback": [
      "\u001b[0;31m---------------------------------------------------------------------------\u001b[0m",
      "\u001b[0;31mTypeError\u001b[0m                                 Traceback (most recent call last)",
      "\u001b[0;32m<ipython-input-184-7d845714cd49>\u001b[0m in \u001b[0;36m<module>\u001b[0;34m\u001b[0m\n\u001b[1;32m      1\u001b[0m \u001b[0;32mfor\u001b[0m \u001b[0mi\u001b[0m \u001b[0;32min\u001b[0m \u001b[0mrange\u001b[0m\u001b[0;34m(\u001b[0m\u001b[0;36m1\u001b[0m\u001b[0;34m,\u001b[0m \u001b[0mlen\u001b[0m\u001b[0;34m(\u001b[0m\u001b[0mmatch\u001b[0m\u001b[0;34m.\u001b[0m\u001b[0mfact\u001b[0m\u001b[0;34m.\u001b[0m\u001b[0mparts\u001b[0m\u001b[0;34m)\u001b[0m\u001b[0;34m)\u001b[0m\u001b[0;34m:\u001b[0m\u001b[0;34m\u001b[0m\u001b[0;34m\u001b[0m\u001b[0m\n\u001b[0;32m----> 2\u001b[0;31m     \u001b[0ms\u001b[0m \u001b[0;34m+=\u001b[0m \u001b[0;34m' '\u001b[0m  \u001b[0;34m+\u001b[0m \u001b[0mmatch\u001b[0m\u001b[0;34m.\u001b[0m\u001b[0mfact\u001b[0m\u001b[0;34m.\u001b[0m\u001b[0mparts\u001b[0m\u001b[0;34m[\u001b[0m\u001b[0mi\u001b[0m\u001b[0;34m]\u001b[0m\u001b[0;34m.\u001b[0m\u001b[0mtype\u001b[0m \u001b[0;34m+\u001b[0m \u001b[0;34m' '\u001b[0m \u001b[0;34m+\u001b[0m \u001b[0mmatch\u001b[0m\u001b[0;34m.\u001b[0m\u001b[0mfact\u001b[0m\u001b[0;34m.\u001b[0m\u001b[0mparts\u001b[0m\u001b[0;34m[\u001b[0m\u001b[0mi\u001b[0m\u001b[0;34m]\u001b[0m\u001b[0;34m.\u001b[0m\u001b[0mnumber\u001b[0m\u001b[0;34m\u001b[0m\u001b[0;34m\u001b[0m\u001b[0m\n\u001b[0m",
      "\u001b[0;31mTypeError\u001b[0m: can only concatenate str (not \"NoneType\") to str"
     ]
    }
   ],
   "source": [
    "for i in range(1, len(match.fact.parts)):\n",
    "    s += ' '  + match.fact.parts[i].type + ' ' + match.fact.parts[i].number"
   ]
  },
  {
   "cell_type": "code",
   "execution_count": 185,
   "metadata": {},
   "outputs": [
    {
     "data": {
      "text/plain": [
       "'Лиговском проспект'"
      ]
     },
     "execution_count": 185,
     "metadata": {},
     "output_type": "execute_result"
    }
   ],
   "source": [
    "s"
   ]
  },
  {
   "cell_type": "code",
   "execution_count": null,
   "metadata": {},
   "outputs": [],
   "source": []
  }
 ],
 "metadata": {
  "kernelspec": {
   "display_name": "Python 3",
   "language": "python",
   "name": "python3"
  },
  "language_info": {
   "codemirror_mode": {
    "name": "ipython",
    "version": 3
   },
   "file_extension": ".py",
   "mimetype": "text/x-python",
   "name": "python",
   "nbconvert_exporter": "python",
   "pygments_lexer": "ipython3",
   "version": "3.7.4"
  }
 },
 "nbformat": 4,
 "nbformat_minor": 4
}
